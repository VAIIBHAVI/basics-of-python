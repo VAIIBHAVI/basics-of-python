{
  "nbformat": 4,
  "nbformat_minor": 0,
  "metadata": {
    "colab": {
      "name": "Assignment_1.ipynb",
      "provenance": [],
      "include_colab_link": true
    },
    "kernelspec": {
      "name": "python3",
      "display_name": "Python 3"
    },
    "language_info": {
      "name": "python"
    }
  },
  "cells": [
    {
      "cell_type": "markdown",
      "metadata": {
        "id": "view-in-github",
        "colab_type": "text"
      },
      "source": [
        "<a href=\"https://colab.research.google.com/github/VAIIBHAVI/basics-of-python/blob/main/Assignment_1.ipynb\" target=\"_parent\"><img src=\"https://colab.research.google.com/assets/colab-badge.svg\" alt=\"Open In Colab\"/></a>"
      ]
    },
    {
      "cell_type": "code",
      "execution_count": null,
      "metadata": {
        "id": "AQljpCDjRh9M"
      },
      "outputs": [],
      "source": [
        "Name=\"Vaibhavi Bhalshankar\"\n",
        "Roll_No=9174"
      ]
    },
    {
      "cell_type": "markdown",
      "metadata": {
        "id": "zddStRefVezy"
      },
      "source": [
        "Lists"
      ]
    },
    {
      "cell_type": "code",
      "execution_count": null,
      "metadata": {
        "colab": {
          "base_uri": "https://localhost:8080/"
        },
        "id": "UPa8vWBHT7Mt",
        "outputId": "49f6e5ca-9de3-4a84-b9e9-ee01f63274cc"
      },
      "outputs": [
        {
          "output_type": "stream",
          "name": "stdout",
          "text": [
            "['Vaibhavi', 'Bhalshankar', 21, 'Student']\n",
            "['SP College', 'Autonomous', 'Sadashiv Peth', 411030]\n"
          ]
        }
      ],
      "source": [
        "A=[\"Vaibhavi\",\"Bhalshankar\",21,\"Student\",]\n",
        "B=[\"SP College\",\"Autonomous\",\"Sadashiv Peth\",411030]\n",
        "print(A)\n",
        "print(B)"
      ]
    },
    {
      "cell_type": "markdown",
      "metadata": {
        "id": "A33kXrv8VnVw"
      },
      "source": [
        "Tupples"
      ]
    },
    {
      "cell_type": "code",
      "execution_count": null,
      "metadata": {
        "colab": {
          "base_uri": "https://localhost:8080/"
        },
        "id": "CLWvdwTyVo6k",
        "outputId": "09730792-72d6-4574-df21-7c3f2fd9d84e"
      },
      "outputs": [
        {
          "output_type": "stream",
          "name": "stdout",
          "text": [
            "('Vaibhavi', 'Bhalshankar', 21, 'Student')\n",
            "('SP College', 'Autonomous', 'Sadashiv Peth', 411030)\n"
          ]
        }
      ],
      "source": [
        "a=(\"Vaibhavi\",\"Bhalshankar\",21,\"Student\")\n",
        "b=(\"SP College\",\"Autonomous\",\"Sadashiv Peth\",411030)\n",
        "print(a)\n",
        "print(b)"
      ]
    },
    {
      "cell_type": "code",
      "execution_count": null,
      "metadata": {
        "colab": {
          "base_uri": "https://localhost:8080/"
        },
        "id": "P0PC7eFiW1xa",
        "outputId": "4c064347-526a-43d9-b6c5-4cd1cd5dd164"
      },
      "outputs": [
        {
          "output_type": "stream",
          "name": "stdout",
          "text": [
            "['Vaibhavi', 'Bhalshankar']\n",
            "['Sadashiv Peth']\n",
            "21\n",
            "411030\n"
          ]
        }
      ],
      "source": [
        "print(A[0:2])\n",
        "print(B[2:3])\n",
        "print(a[2])\n",
        "print(b[3])"
      ]
    },
    {
      "cell_type": "markdown",
      "metadata": {
        "id": "Vq1FbFa4V7GU"
      },
      "source": [
        "Class"
      ]
    },
    {
      "cell_type": "code",
      "execution_count": null,
      "metadata": {
        "colab": {
          "base_uri": "https://localhost:8080/"
        },
        "id": "K9Zz9geHWSYX",
        "outputId": "8ac34055-9e74-4741-d832-85ee85815366"
      },
      "outputs": [
        {
          "output_type": "stream",
          "name": "stdout",
          "text": [
            "<class 'list'>\n",
            "<class 'list'>\n",
            "<class 'tuple'>\n",
            "<class 'tuple'>\n"
          ]
        }
      ],
      "source": [
        "print(type(A))\n",
        "print(type(B))\n",
        "print(type(a))\n",
        "print(type(b))"
      ]
    },
    {
      "cell_type": "markdown",
      "metadata": {
        "id": "HyzEj8AlWoo8"
      },
      "source": [
        "Copy"
      ]
    },
    {
      "cell_type": "code",
      "execution_count": null,
      "metadata": {
        "colab": {
          "base_uri": "https://localhost:8080/"
        },
        "id": "I5ALFx4NfqHY",
        "outputId": "d29893b2-65f7-4749-81ae-f1487a70aaa0"
      },
      "outputs": [
        {
          "output_type": "stream",
          "name": "stdout",
          "text": [
            "['Vaibhavi', 'Bhalshankar', 21, 'Student']\n",
            "['Vaibhavi', 'Bhalshankar', 21, 'Student']\n"
          ]
        }
      ],
      "source": [
        "print(A)\n",
        "A1=A.copy()\n",
        "print(A1)\n",
        "\n",
        "### Tupples cannot be copied"
      ]
    },
    {
      "cell_type": "markdown",
      "metadata": {
        "id": "H2Igh-Dnhi3e"
      },
      "source": [
        "Append"
      ]
    },
    {
      "cell_type": "code",
      "execution_count": null,
      "metadata": {
        "colab": {
          "base_uri": "https://localhost:8080/"
        },
        "id": "KJV-dQhOhnWk",
        "outputId": "a95848d0-d955-4cb9-bb30-4d4549889c6d"
      },
      "outputs": [
        {
          "output_type": "stream",
          "name": "stdout",
          "text": [
            "['SP College', 'Autonomous', 'Sadashiv Peth', 411030]\n",
            "['SP College', 'Autonomous', 'Sadashiv Peth', 411030, 'Autonomous']\n"
          ]
        }
      ],
      "source": [
        "print(B)\n",
        "B.append(\"Autonomous\")\n",
        "print(B)\n",
        "\n",
        "### TUpples cannot be modified"
      ]
    },
    {
      "cell_type": "markdown",
      "metadata": {
        "id": "yzC-dWA8j2_j"
      },
      "source": [
        "Count"
      ]
    },
    {
      "cell_type": "code",
      "execution_count": null,
      "metadata": {
        "colab": {
          "base_uri": "https://localhost:8080/"
        },
        "id": "gX7asZPvj4VK",
        "outputId": "a23132d7-a301-4314-91b7-b1e86a3af35d"
      },
      "outputs": [
        {
          "output_type": "stream",
          "name": "stdout",
          "text": [
            "1\n",
            "2\n"
          ]
        }
      ],
      "source": [
        "print(A.count(\"Vaibhavi\"))\n",
        "A.append(\"Vaibhavi\")\n",
        "print(A.count(\"Vaibhavi\"))"
      ]
    },
    {
      "cell_type": "markdown",
      "metadata": {
        "id": "uZcdiR0plxbk"
      },
      "source": [
        "Delete list"
      ]
    },
    {
      "cell_type": "code",
      "execution_count": null,
      "metadata": {
        "id": "UpHOO4Isly_O",
        "colab": {
          "base_uri": "https://localhost:8080/"
        },
        "outputId": "d0bf5338-7cd7-43ff-9d35-76a6c267805e"
      },
      "outputs": [
        {
          "output_type": "stream",
          "name": "stdout",
          "text": [
            "['Vaibhavi', 'Bhalshankar', 21, 'Student']\n"
          ]
        }
      ],
      "source": [
        "try:\n",
        " print(A1)\n",
        " del A1\n",
        " print(A1)\n",
        "except:\n",
        "    pass\n",
        "\n",
        "### List A1 is deleted therefore it is showing error\n",
        "### Used Try and Expect to maintain the continuity of the program"
      ]
    },
    {
      "cell_type": "markdown",
      "metadata": {
        "id": "htdmmPEFmSZ2"
      },
      "source": [
        "Extend"
      ]
    },
    {
      "cell_type": "code",
      "execution_count": null,
      "metadata": {
        "colab": {
          "base_uri": "https://localhost:8080/"
        },
        "id": "FiPc5sWpmTaG",
        "outputId": "81d898d9-04d0-43b1-8db4-1e828d679ca6"
      },
      "outputs": [
        {
          "output_type": "stream",
          "name": "stdout",
          "text": [
            "['Vaibhavi', 'Bhalshankar', 21, 'Student', 'Yogesh Kumar', 'Vaibhavi']\n",
            "['SP College', 'Autonomous', 'Sadashiv Peth', 411030, 'Autonomous']\n",
            "['Vaibhavi', 'Bhalshankar', 21, 'Student', 'Yogesh Kumar', 'Vaibhavi', 'SP College', 'Autonomous', 'Sadashiv Peth', 411030, 'Autonomous']\n"
          ]
        }
      ],
      "source": [
        "print(A)\n",
        "print(B)\n",
        "A.extend(B)\n",
        "print(A)"
      ]
    },
    {
      "cell_type": "markdown",
      "metadata": {
        "id": "3SZNyOkSmz_4"
      },
      "source": [
        "Index"
      ]
    },
    {
      "cell_type": "code",
      "execution_count": null,
      "metadata": {
        "colab": {
          "base_uri": "https://localhost:8080/"
        },
        "id": "lh7Fcztcm5zQ",
        "outputId": "0c1c3f92-f14c-451b-e64b-90d037a1509d"
      },
      "outputs": [
        {
          "output_type": "stream",
          "name": "stdout",
          "text": [
            "2\n",
            "7\n"
          ]
        }
      ],
      "source": [
        "print(B.index(\"Sadashiv Peth\"))\n",
        "print(A.index(\"Autonomous\"))\n",
        "\n",
        "### If the elements are repeated in the list then index() will provide the index no. of first element"
      ]
    },
    {
      "cell_type": "markdown",
      "metadata": {
        "id": "i18HeCFVna_F"
      },
      "source": [
        "Sort"
      ]
    },
    {
      "cell_type": "code",
      "execution_count": null,
      "metadata": {
        "colab": {
          "base_uri": "https://localhost:8080/"
        },
        "id": "53GvfXQgnb07",
        "outputId": "94321e45-86b7-47a4-a7c0-314d7d760fc1"
      },
      "outputs": [
        {
          "output_type": "stream",
          "name": "stdout",
          "text": [
            "['D', 'A', 'C', 'B']\n",
            "[4, 2, 1, 3]\n",
            "['A', 'B', 'C', 'D']\n",
            "[1, 2, 3, 4]\n"
          ]
        }
      ],
      "source": [
        "K=[\"D\",\"A\",\"C\",\"B\"]\n",
        "print(K)\n",
        "K1=[4,2,1,3]\n",
        "print(K1)\n",
        "K.sort()\n",
        "K1.sort()\n",
        "print(K)\n",
        "print(K1)\n",
        "\n",
        "### For sorting all the elements in the list should be of same type"
      ]
    },
    {
      "cell_type": "markdown",
      "metadata": {
        "id": "gcL3B3ELoci8"
      },
      "source": [
        "Access"
      ]
    },
    {
      "cell_type": "code",
      "execution_count": null,
      "metadata": {
        "colab": {
          "base_uri": "https://localhost:8080/"
        },
        "id": "Ej2MOc8Nofdk",
        "outputId": "95755056-ec0c-403f-dbf1-be5c12167d59"
      },
      "outputs": [
        {
          "output_type": "stream",
          "name": "stdout",
          "text": [
            "['A', 'B']\n",
            "[1, 2, 3, 4]\n"
          ]
        }
      ],
      "source": [
        "print(K[:2])\n",
        "print(K1[0:])"
      ]
    },
    {
      "cell_type": "markdown",
      "metadata": {
        "id": "CsCUgmvxo_KC"
      },
      "source": [
        "Nested List"
      ]
    },
    {
      "cell_type": "code",
      "execution_count": null,
      "metadata": {
        "colab": {
          "base_uri": "https://localhost:8080/"
        },
        "id": "M4UQ5D3VpApW",
        "outputId": "122a49dd-4dac-4ec8-c8a7-88a9dcb2b15d"
      },
      "outputs": [
        {
          "output_type": "stream",
          "name": "stdout",
          "text": [
            "['Vaibhavi', 'SP COllege', [21, 411030]]\n",
            "[21, 411030]\n"
          ]
        }
      ],
      "source": [
        "ABlist=[\"Vaibhavi\",\"SP COllege\",[21,411030]]\n",
        "print(ABlist)\n",
        "print(ABlist[2])"
      ]
    }
  ]
}